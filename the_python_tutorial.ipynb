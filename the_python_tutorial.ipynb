{
 "cells": [
  {
   "cell_type": "markdown",
   "id": "2f348218",
   "metadata": {},
   "source": [
    "### 4. More Control Flow Tools"
   ]
  },
  {
   "cell_type": "code",
   "execution_count": 1,
   "id": "47de9be3",
   "metadata": {},
   "outputs": [],
   "source": [
    "# Create a sample collection\n",
    "users = {'Hans': 'active', 'Éléonore': 'inactive', '景太郎': 'active'}\n",
    "\n",
    "# Strategy:  Iterate over a copy\n",
    "for user, status in users.copy().items():\n",
    "    if status == 'inactive':\n",
    "        del users[user]\n",
    "\n",
    "# Strategy:  Create a new collection\n",
    "active_users = {}\n",
    "for user, status in users.items():\n",
    "    if status == 'active':\n",
    "        active_users[user] = status"
   ]
  },
  {
   "cell_type": "code",
   "execution_count": 2,
   "id": "49fe0e42",
   "metadata": {},
   "outputs": [
    {
     "data": {
      "text/plain": [
       "{'Hans': 'active', '景太郎': 'active'}"
      ]
     },
     "execution_count": 2,
     "metadata": {},
     "output_type": "execute_result"
    }
   ],
   "source": [
    "active_users"
   ]
  },
  {
   "cell_type": "code",
   "execution_count": 3,
   "id": "4e32aef9",
   "metadata": {},
   "outputs": [
    {
     "data": {
      "text/plain": [
       "{'Hans': 'active', '景太郎': 'active'}"
      ]
     },
     "execution_count": 3,
     "metadata": {},
     "output_type": "execute_result"
    }
   ],
   "source": [
    "users"
   ]
  },
  {
   "cell_type": "code",
   "execution_count": 4,
   "id": "f4b8a7e1",
   "metadata": {
    "scrolled": true
   },
   "outputs": [
    {
     "name": "stdout",
     "output_type": "stream",
     "text": [
      "Something's wrong with the internet\n"
     ]
    }
   ],
   "source": [
    "def http_error(status):\n",
    "    match status:\n",
    "        case 400:\n",
    "            return \"Bad request\"\n",
    "        case 404:\n",
    "            return \"Not found\"\n",
    "        case 418:\n",
    "            return \"I'm a teapot\"\n",
    "        case _:\n",
    "            return \"Something's wrong with the internet\"\n",
    "\n",
    "\n",
    "print(http_error(40))"
   ]
  },
  {
   "cell_type": "code",
   "execution_count": 5,
   "id": "89333df8",
   "metadata": {},
   "outputs": [
    {
     "name": "stdout",
     "output_type": "stream",
     "text": [
      "None\n"
     ]
    }
   ],
   "source": [
    "print(None)"
   ]
  },
  {
   "cell_type": "code",
   "execution_count": 6,
   "id": "5bb2d902",
   "metadata": {},
   "outputs": [],
   "source": [
    "def fib2(n): # return Fibonacci series upto n\n",
    "    \"\"\"Return a list containing the Fibonacci Series upto n.\"\"\"\n",
    "    \n",
    "    result = []\n",
    "    a, b = 0, 1\n",
    "    while a < n:\n",
    "        result.append(a)\n",
    "        a, b = b, a+b\n",
    "    return result"
   ]
  },
  {
   "cell_type": "code",
   "execution_count": 7,
   "id": "de7fd9c1",
   "metadata": {},
   "outputs": [
    {
     "data": {
      "text/plain": [
       "[0, 1, 1, 2, 3, 5, 8, 13, 21, 34, 55, 89]"
      ]
     },
     "execution_count": 7,
     "metadata": {},
     "output_type": "execute_result"
    }
   ],
   "source": [
    "fib2(100)"
   ]
  },
  {
   "cell_type": "code",
   "execution_count": 9,
   "id": "776279ab",
   "metadata": {},
   "outputs": [],
   "source": [
    "def cgeom(point):\n",
    "    # point is an (x, y) tuple\n",
    "    match point:\n",
    "        case (0, 0):\n",
    "            print(\"Origin\")\n",
    "        case (0, y):\n",
    "            print(f\"Y={y}\")\n",
    "        case (x, 0):\n",
    "            print(f\"X={x}\")\n",
    "        case (x, y):\n",
    "            print(f\"X={x}, Y={y}\")\n",
    "        case _:\n",
    "            raise ValueError(\"Not a point\")"
   ]
  },
  {
   "cell_type": "code",
   "execution_count": 11,
   "id": "fc770db2",
   "metadata": {},
   "outputs": [
    {
     "name": "stdout",
     "output_type": "stream",
     "text": [
      "Origin\n"
     ]
    }
   ],
   "source": [
    "cgeom((0, 0))"
   ]
  },
  {
   "cell_type": "code",
   "execution_count": 12,
   "id": "43cb107d",
   "metadata": {},
   "outputs": [
    {
     "name": "stdout",
     "output_type": "stream",
     "text": [
      "Y=sdf\n"
     ]
    }
   ],
   "source": [
    "cgeom((0, 'sdf'))"
   ]
  },
  {
   "cell_type": "code",
   "execution_count": 10,
   "id": "156d2f34",
   "metadata": {},
   "outputs": [
    {
     "name": "stdout",
     "output_type": "stream",
     "text": [
      "X=1, Y=2\n"
     ]
    }
   ],
   "source": [
    "cgeom((1, 2))"
   ]
  },
  {
   "cell_type": "code",
   "execution_count": 14,
   "id": "c4117d3d",
   "metadata": {},
   "outputs": [
    {
     "name": "stdout",
     "output_type": "stream",
     "text": [
      "X=what\n"
     ]
    }
   ],
   "source": [
    "cgeom(('what', 0))"
   ]
  },
  {
   "cell_type": "code",
   "execution_count": 15,
   "id": "baa01c44",
   "metadata": {},
   "outputs": [
    {
     "ename": "ValueError",
     "evalue": "Not a point",
     "output_type": "error",
     "traceback": [
      "\u001b[1;31m---------------------------------------------------------\u001b[0m",
      "\u001b[1;31mValueError\u001b[0m              Traceback (most recent call last)",
      "\u001b[1;32m~\\AppData\\Local\\Temp/ipykernel_13436/3363709741.py\u001b[0m in \u001b[0;36m<module>\u001b[1;34m\u001b[0m\n\u001b[1;32m----> 1\u001b[1;33m \u001b[0mcgeom\u001b[0m\u001b[1;33m(\u001b[0m\u001b[1;34m'sdfds'\u001b[0m\u001b[1;33m)\u001b[0m\u001b[1;33m\u001b[0m\u001b[1;33m\u001b[0m\u001b[0m\n\u001b[0m",
      "\u001b[1;32m~\\AppData\\Local\\Temp/ipykernel_13436/4118388282.py\u001b[0m in \u001b[0;36mcgeom\u001b[1;34m(point)\u001b[0m\n\u001b[0;32m     11\u001b[0m             \u001b[0mprint\u001b[0m\u001b[1;33m(\u001b[0m\u001b[1;34mf\"X={x}, Y={y}\"\u001b[0m\u001b[1;33m)\u001b[0m\u001b[1;33m\u001b[0m\u001b[1;33m\u001b[0m\u001b[0m\n\u001b[0;32m     12\u001b[0m         \u001b[0mcase\u001b[0m \u001b[0m_\u001b[0m\u001b[1;33m:\u001b[0m\u001b[1;33m\u001b[0m\u001b[1;33m\u001b[0m\u001b[0m\n\u001b[1;32m---> 13\u001b[1;33m             \u001b[1;32mraise\u001b[0m \u001b[0mValueError\u001b[0m\u001b[1;33m(\u001b[0m\u001b[1;34m\"Not a point\"\u001b[0m\u001b[1;33m)\u001b[0m\u001b[1;33m\u001b[0m\u001b[1;33m\u001b[0m\u001b[0m\n\u001b[0m",
      "\u001b[1;31mValueError\u001b[0m: Not a point"
     ]
    }
   ],
   "source": [
    "cgeom('sdfds')"
   ]
  },
  {
   "cell_type": "code",
   "execution_count": 16,
   "id": "8f5e0f51",
   "metadata": {},
   "outputs": [],
   "source": [
    "class Point:\n",
    "    x: int\n",
    "    y: int\n",
    "\n",
    "def where_is(point):\n",
    "    match point:\n",
    "        case Point(x=0, y=0):\n",
    "            print(\"Origin\")\n",
    "        case Point(x=0, y=y):\n",
    "            print(f\"Y={y}\")\n",
    "        case Point(x=x, y=0):\n",
    "            print(f\"X={x}\")\n",
    "        case Point():\n",
    "            print(\"Somewhere else\")\n",
    "        case _:\n",
    "            print(\"Not a point\")"
   ]
  },
  {
   "cell_type": "code",
   "execution_count": 17,
   "id": "54c652c9",
   "metadata": {},
   "outputs": [
    {
     "name": "stdout",
     "output_type": "stream",
     "text": [
      "Not a point\n"
     ]
    }
   ],
   "source": [
    "where_is((0.0, 0.0))"
   ]
  },
  {
   "cell_type": "code",
   "execution_count": 29,
   "id": "4b6d2e35",
   "metadata": {
    "scrolled": true
   },
   "outputs": [
    {
     "ename": "AttributeError",
     "evalue": "'Point' object has no attribute '__match_args__'",
     "output_type": "error",
     "traceback": [
      "\u001b[1;31m---------------------------------------------------------\u001b[0m",
      "\u001b[1;31mAttributeError\u001b[0m          Traceback (most recent call last)",
      "\u001b[1;32m~\\AppData\\Local\\Temp/ipykernel_13436/360044264.py\u001b[0m in \u001b[0;36m<module>\u001b[1;34m\u001b[0m\n\u001b[1;32m----> 1\u001b[1;33m \u001b[0msdf\u001b[0m\u001b[1;33m.\u001b[0m\u001b[0m__match_args__\u001b[0m\u001b[1;33m\u001b[0m\u001b[1;33m\u001b[0m\u001b[0m\n\u001b[0m",
      "\u001b[1;31mAttributeError\u001b[0m: 'Point' object has no attribute '__match_args__'"
     ]
    }
   ],
   "source": [
    "sdf.__match_args__"
   ]
  },
  {
   "cell_type": "code",
   "execution_count": 28,
   "id": "9bbdfb4e",
   "metadata": {},
   "outputs": [
    {
     "ename": "TypeError",
     "evalue": "Point() takes no arguments",
     "output_type": "error",
     "traceback": [
      "\u001b[1;31m---------------------------------------------------------\u001b[0m",
      "\u001b[1;31mTypeError\u001b[0m               Traceback (most recent call last)",
      "\u001b[1;32m~\\AppData\\Local\\Temp/ipykernel_13436/1948422980.py\u001b[0m in \u001b[0;36m<module>\u001b[1;34m\u001b[0m\n\u001b[1;32m----> 1\u001b[1;33m \u001b[0msdf\u001b[0m \u001b[1;33m=\u001b[0m \u001b[0mPoint\u001b[0m\u001b[1;33m(\u001b[0m\u001b[0mx\u001b[0m\u001b[1;33m=\u001b[0m\u001b[1;36m3\u001b[0m\u001b[1;33m,\u001b[0m \u001b[0my\u001b[0m \u001b[1;33m=\u001b[0m \u001b[1;36m2\u001b[0m\u001b[1;33m)\u001b[0m\u001b[1;33m\u001b[0m\u001b[1;33m\u001b[0m\u001b[0m\n\u001b[0m",
      "\u001b[1;31mTypeError\u001b[0m: Point() takes no arguments"
     ]
    }
   ],
   "source": [
    "sdf = Point(x=3, y = 2)"
   ]
  },
  {
   "cell_type": "code",
   "execution_count": 22,
   "id": "03725556",
   "metadata": {},
   "outputs": [],
   "source": [
    "sdf.x = 4\n",
    "sdf.y = 5"
   ]
  },
  {
   "cell_type": "code",
   "execution_count": 24,
   "id": "ce74be0f",
   "metadata": {},
   "outputs": [],
   "source": [
    "sdf.x = 3.4"
   ]
  },
  {
   "cell_type": "code",
   "execution_count": 25,
   "id": "9811c03f",
   "metadata": {},
   "outputs": [
    {
     "data": {
      "text/plain": [
       "3.4"
      ]
     },
     "execution_count": 25,
     "metadata": {},
     "output_type": "execute_result"
    }
   ],
   "source": [
    "sdf.x"
   ]
  },
  {
   "cell_type": "code",
   "execution_count": 23,
   "id": "6f89bcda",
   "metadata": {},
   "outputs": [
    {
     "data": {
      "text/plain": [
       "4"
      ]
     },
     "execution_count": 23,
     "metadata": {},
     "output_type": "execute_result"
    }
   ],
   "source": [
    "sdf.x"
   ]
  },
  {
   "cell_type": "code",
   "execution_count": 21,
   "id": "52d62645",
   "metadata": {},
   "outputs": [
    {
     "data": {
      "text/plain": [
       "__main__.Point"
      ]
     },
     "execution_count": 21,
     "metadata": {},
     "output_type": "execute_result"
    }
   ],
   "source": [
    "type(sdf)"
   ]
  },
  {
   "cell_type": "code",
   "execution_count": 20,
   "id": "b7019a37",
   "metadata": {},
   "outputs": [
    {
     "data": {
      "text/plain": [
       "<__main__.Point at 0x15769671f30>"
      ]
     },
     "execution_count": 20,
     "metadata": {},
     "output_type": "execute_result"
    }
   ],
   "source": [
    "sdf"
   ]
  },
  {
   "cell_type": "code",
   "execution_count": 18,
   "id": "ae81bd7d",
   "metadata": {
    "scrolled": true
   },
   "outputs": [
    {
     "name": "stdout",
     "output_type": "stream",
     "text": [
      "Not a point\n"
     ]
    }
   ],
   "source": [
    "where_is((34.24, 123.12))"
   ]
  },
  {
   "cell_type": "code",
   "execution_count": 30,
   "id": "ab829c00",
   "metadata": {},
   "outputs": [],
   "source": [
    "def what_is(points):\n",
    "    match points:\n",
    "        case []:\n",
    "            print(\"No points\")\n",
    "        case [Point(0, 0)]:\n",
    "            print(\"The origin\")\n",
    "        case [Point(x, y)]:\n",
    "            print(f\"Single point {x}, {y}\")\n",
    "        case [Point(0, y1), Point(0, y2)]:\n",
    "            print(f\"Two on the Y axis at {y1}, {y2}\")\n",
    "        case _:\n",
    "            print(\"Something else\")"
   ]
  },
  {
   "cell_type": "code",
   "execution_count": 33,
   "id": "39d33fd2",
   "metadata": {
    "scrolled": true
   },
   "outputs": [
    {
     "ename": "TypeError",
     "evalue": "Point() takes no arguments",
     "output_type": "error",
     "traceback": [
      "\u001b[1;31m---------------------------------------------------------\u001b[0m",
      "\u001b[1;31mTypeError\u001b[0m               Traceback (most recent call last)",
      "\u001b[1;32m~\\AppData\\Local\\Temp/ipykernel_13436/1396822361.py\u001b[0m in \u001b[0;36m<module>\u001b[1;34m\u001b[0m\n\u001b[1;32m----> 1\u001b[1;33m \u001b[0mwhat_is\u001b[0m\u001b[1;33m(\u001b[0m\u001b[1;33m[\u001b[0m\u001b[0mPoint\u001b[0m\u001b[1;33m(\u001b[0m\u001b[1;36m0\u001b[0m\u001b[1;33m,\u001b[0m \u001b[1;36m0\u001b[0m\u001b[1;33m)\u001b[0m\u001b[1;33m]\u001b[0m\u001b[1;33m)\u001b[0m\u001b[1;33m\u001b[0m\u001b[1;33m\u001b[0m\u001b[0m\n\u001b[0m",
      "\u001b[1;31mTypeError\u001b[0m: Point() takes no arguments"
     ]
    }
   ],
   "source": [
    "what_is([Point(0, 0)])"
   ]
  },
  {
   "cell_type": "code",
   "execution_count": 37,
   "id": "92070c66",
   "metadata": {},
   "outputs": [
    {
     "name": "stdout",
     "output_type": "stream",
     "text": [
      "Enter your choice of 'red', 'blue' or 'green': blue\n",
      "I'm feeling the blues :(\n"
     ]
    }
   ],
   "source": [
    "from enum import Enum\n",
    "class Color(Enum):\n",
    "    RED = 'red'\n",
    "    GREEN = 'green'\n",
    "    BLUE = 'blue'\n",
    "\n",
    "color = Color(input(\"Enter your choice of 'red', 'blue' or 'green': \"))\n",
    "\n",
    "match color:\n",
    "    case Color.RED:\n",
    "        print(\"I see red!\")\n",
    "    case Color.GREEN:\n",
    "        print(\"Grass is green\")\n",
    "    case Color.BLUE:\n",
    "        print(\"I'm feeling the blues :(\")\n",
    "    case _:\n",
    "        print(\"This color is an RGB Combination\")"
   ]
  },
  {
   "cell_type": "code",
   "execution_count": 38,
   "id": "b0225403",
   "metadata": {},
   "outputs": [
    {
     "name": "stdout",
     "output_type": "stream",
     "text": [
      "Object `match` not found.\n"
     ]
    }
   ],
   "source": [
    "?match"
   ]
  },
  {
   "cell_type": "code",
   "execution_count": 40,
   "id": "ead4e6ac",
   "metadata": {},
   "outputs": [
    {
     "ename": "NameError",
     "evalue": "name 'case' is not defined",
     "output_type": "error",
     "traceback": [
      "\u001b[1;31m---------------------------------------------------------\u001b[0m",
      "\u001b[1;31mNameError\u001b[0m               Traceback (most recent call last)",
      "\u001b[1;32m~\\AppData\\Local\\Temp/ipykernel_13436/407541715.py\u001b[0m in \u001b[0;36m<module>\u001b[1;34m\u001b[0m\n\u001b[1;32m----> 1\u001b[1;33m \u001b[0mhelp\u001b[0m\u001b[1;33m(\u001b[0m\u001b[0mcase\u001b[0m\u001b[1;33m)\u001b[0m\u001b[1;33m\u001b[0m\u001b[1;33m\u001b[0m\u001b[0m\n\u001b[0m",
      "\u001b[1;31mNameError\u001b[0m: name 'case' is not defined"
     ]
    }
   ],
   "source": [
    "help(case)"
   ]
  },
  {
   "cell_type": "markdown",
   "id": "7758f58f",
   "metadata": {},
   "source": [
    "## The global Keyword\n",
    "Normally, when you create a variable inside a function, that variable is local, and can only be used inside that function.\n",
    "\n",
    "To create a global variable inside a function, you can use the global keyword.\n",
    "\n",
    "Also, use the global keyword if you want to change a global variable inside a function."
   ]
  },
  {
   "cell_type": "code",
   "execution_count": 47,
   "id": "d52c43d3",
   "metadata": {},
   "outputs": [
    {
     "name": "stdout",
     "output_type": "stream",
     "text": [
      "Python is awesome\n",
      "Python is fantastic\n"
     ]
    }
   ],
   "source": [
    "x = \"awesome\"\n",
    "\n",
    "\n",
    "def myfunc():\n",
    "    global x\n",
    "    x = \"fantastic\"\n",
    "\n",
    "print(\"Python is \" + x)\n",
    "    \n",
    "myfunc()\n",
    "\n",
    "print(\"Python is \" + x)\n"
   ]
  },
  {
   "cell_type": "code",
   "execution_count": 46,
   "id": "ae918201",
   "metadata": {},
   "outputs": [
    {
     "name": "stdout",
     "output_type": "stream",
     "text": [
      "43\n",
      "55\n"
     ]
    }
   ],
   "source": [
    "global what\n",
    "# any variable created here is global so no need of 'global' keyword here\n",
    "what = 55\n",
    "\n",
    "def pr():\n",
    "    # here what is local\n",
    "    what = 43\n",
    "    print(what)\n",
    "\n",
    "pr()\n",
    "print(what)"
   ]
  },
  {
   "cell_type": "code",
   "execution_count": 3,
   "id": "593249c4",
   "metadata": {},
   "outputs": [
    {
     "name": "stdout",
     "output_type": "stream",
     "text": [
      "43\n",
      "43\n"
     ]
    }
   ],
   "source": [
    "global what\n",
    "# any variable created here is global so no need of 'global' keyword here\n",
    "what = 55\n",
    "\n",
    "def pr():\n",
    "    # here what is global due to the below line\n",
    "    global what\n",
    "    what = 43\n",
    "    print(what)\n",
    "\n",
    "pr()\n",
    "print(what)"
   ]
  },
  {
   "cell_type": "markdown",
   "id": "e7f1ec92",
   "metadata": {},
   "source": [
    "### How a function executes?\n",
    "\n",
    "The execution of a function introduces a new symbol table used for the local variables of the function. \n",
    "\n",
    "all variable assignments in a function store the value in the local symbol table;\n",
    "\n",
    "whereas\n",
    "\n",
    "for variable references they first look at\n",
    "\n",
    "1. local symbol table\n",
    "2. local symbol tables of enclosing functions\n",
    "3. global symbol table\n",
    "4. table of built-in names\n",
    "\n",
    "Thus, global variables and variables of enclosing functions cannot be directly assigned a value within a function (unless, for global variables, named in a global statement, or, for variables of enclosing functions, named in a nonlocal statement), although they may be referenced."
   ]
  },
  {
   "cell_type": "code",
   "execution_count": 48,
   "id": "bd20442a",
   "metadata": {
    "scrolled": true
   },
   "outputs": [
    {
     "name": "stdout",
     "output_type": "stream",
     "text": [
      "{'brand': 'Ford', 'model': 'Mustang', 'year': 1964}\n"
     ]
    }
   ],
   "source": [
    "thisdict = {\n",
    "  \"brand\": \"Ford\",\n",
    "  \"model\": \"Mustang\",\n",
    "  \"year\": 1964\n",
    "}\n",
    "\n",
    "print(thisdict)"
   ]
  },
  {
   "cell_type": "code",
   "execution_count": 49,
   "id": "e4cf85a8",
   "metadata": {},
   "outputs": [
    {
     "data": {
      "text/plain": [
       "{'brand': 'Ford', 'model': 'Mustang', 'year': 1964}"
      ]
     },
     "execution_count": 49,
     "metadata": {},
     "output_type": "execute_result"
    }
   ],
   "source": [
    "thisdict"
   ]
  },
  {
   "cell_type": "code",
   "execution_count": 53,
   "id": "4e864d72",
   "metadata": {},
   "outputs": [
    {
     "name": "stdout",
     "output_type": "stream",
     "text": [
      "brand : Ford\n",
      "model : Mustang\n",
      "year : 1964\n"
     ]
    }
   ],
   "source": [
    "for kw in thisdict:\n",
    "    print(kw, ':', thisdict[kw])"
   ]
  },
  {
   "cell_type": "raw",
   "id": "d5b449b7",
   "metadata": {},
   "source": [
    "### docs.python.org read till 4.8.3 Python 3.10.2"
   ]
  },
  {
   "cell_type": "markdown",
   "id": "833fd045",
   "metadata": {},
   "source": [
    "## 8. Errors & Functions\n",
    "### 8.3 Handling Exceptions"
   ]
  },
  {
   "cell_type": "code",
   "execution_count": 1,
   "id": "c5ce1db9",
   "metadata": {},
   "outputs": [
    {
     "data": {
      "text/plain": [
       "5"
      ]
     },
     "execution_count": 1,
     "metadata": {},
     "output_type": "execute_result"
    }
   ],
   "source": [
    "a = 5\n",
    "\n",
    "a"
   ]
  },
  {
   "cell_type": "code",
   "execution_count": 3,
   "id": "c332812e",
   "metadata": {
    "scrolled": true
   },
   "outputs": [
    {
     "name": "stdout",
     "output_type": "stream",
     "text": [
      " Volume in drive E has no label.\n",
      " Volume Serial Number is D4FF-FD4F\n",
      "\n",
      " Directory of e:\\shreyastaware\\python_projects\\problem-solving\n",
      "\n",
      "26-03-2022  18:38    <DIR>          .\n",
      "26-03-2022  18:38    <DIR>          ..\n",
      "18-03-2022  02:06               530 ..gitignore.un~\n",
      "18-03-2022  02:06             2,918 .gitignore\n",
      "18-03-2022  00:11             2,914 .gitignore~\n",
      "25-03-2022  23:28    <DIR>          .ipynb_checkpoints\n",
      "18-03-2022  00:21               985 .README.md.un~\n",
      "21-03-2022  15:29    <DIR>          .vscode\n",
      "18-03-2022  23:22               927 counting_sort_1.py\n",
      "18-03-2022  23:26             1,330 counting_sort_1_soln.py\n",
      "19-03-2022  00:30             1,901 counting_valleys.py\n",
      "19-03-2022  00:36             1,163 counting_valleys_1.py\n",
      "22-03-2022  23:14    <DIR>          cpp\n",
      "17-03-2022  23:43             1,814 diagonal_difference.py\n",
      "17-03-2022  23:57               701 diagonal_difference_1.py\n",
      "17-03-2022  23:59               436 diagonal_difference_2.py\n",
      "22-03-2022  23:11             1,685 drawing_book.py\n",
      "22-03-2022  23:16               535 drawing_book_1.py\n",
      "18-03-2022  02:55             2,944 envname.yml\n",
      "25-03-2022  23:27    <DIR>          experiment_files_python\n",
      "17-03-2022  23:38             1,134 flipping_bits.py\n",
      "18-03-2022  12:35               368 flipping_bits_1.py\n",
      "15-03-2022  01:59             1,496 function_annotations.py\n",
      "17-03-2022  22:11             1,005 grading_students.py\n",
      "25-03-2022  10:49    <DIR>          java\n",
      "18-03-2022  00:01    <DIR>          js\n",
      "17-03-2022  22:02             2,211 lonely_integer.py\n",
      "19-03-2022  01:41             1,085 mars_exploration.py\n",
      "19-03-2022  01:42               641 mars_exploration_1.py\n",
      "19-03-2022  01:42               175 mars_exploration_2.py\n",
      "21-03-2022  17:56             3,232 maximum_perimeter_triangle.py\n",
      "21-03-2022  16:45             2,633 migratory_birds.py\n",
      "21-03-2022  16:47               121 migratory_birds_1.py\n",
      "23-03-2022  23:35             2,136 mock_test_3.py\n",
      "19-03-2022  00:52               781 pangrams.py\n",
      "19-03-2022  00:55               137 pangrams_1.py\n",
      "19-03-2022  00:56               241 pangrams_2.py\n",
      "21-03-2022  16:05             1,124 permuting_two_arrays.py\n",
      "20-03-2022  20:17               390 permuting_two_arrays_1.py\n",
      "25-03-2022  11:33             3,602 picking_numbers.py\n",
      "25-03-2022  10:46               191 picking_numbers_1.py\n",
      "25-03-2022  10:48               625 picking_numbers_2.py\n",
      "15-03-2022  08:55            48,910 python_dsa.ipynb\n",
      "26-03-2022  18:38            23,585 python_practice.ipynb\n",
      "21-03-2022  15:38               384 README.md\n",
      "18-03-2022  00:06                22 README.md~\n",
      "19-03-2022  01:42    <DIR>          ruby\n",
      "21-03-2022  16:13               880 sales_by_match.py\n",
      "21-03-2022  16:33               479 sales_by_match_1.py\n",
      "15-03-2022  17:05             1,581 sparse_arrays.py\n",
      "21-03-2022  16:05             1,523 subarray_division_2.py\n",
      "19-03-2022  00:40    <DIR>          swift\n",
      "26-03-2022  21:37            20,529 the_python_tutorial.ipynb\n",
      "21-03-2022  16:04               347 xor_string_3.py\n",
      "22-03-2022  21:59               655 zig_zag_sequence.py\n",
      "              45 File(s)        143,006 bytes\n",
      "              10 Dir(s)  554,520,227,840 bytes free\n"
     ]
    }
   ],
   "source": [
    "!dir"
   ]
  },
  {
   "cell_type": "code",
   "execution_count": 7,
   "id": "87f0bdbd",
   "metadata": {},
   "outputs": [
    {
     "name": "stdout",
     "output_type": "stream",
     "text": [
      "Could not convert data to an integer.\n"
     ]
    }
   ],
   "source": [
    "import sys\n",
    "\n",
    "try:\n",
    "    f = open('myfile.txt')\n",
    "    s = f.readline()\n",
    "    i = int(s.strip())\n",
    "except OSError as err:\n",
    "    print(\"OS error: {0}\".format(err))\n",
    "except ValueError:\n",
    "    print(\"Could not convert data to an integer.\")\n",
    "except BaseException as err:\n",
    "    print(f\"Unexpected {err=}, {type(err)=}\")\n",
    "    raise"
   ]
  },
  {
   "cell_type": "code",
   "execution_count": 11,
   "id": "3b4b93f2",
   "metadata": {},
   "outputs": [],
   "source": [
    "sys.exc_info()[1]"
   ]
  },
  {
   "cell_type": "code",
   "execution_count": null,
   "id": "a2eec719",
   "metadata": {},
   "outputs": [],
   "source": []
  }
 ],
 "metadata": {
  "kernelspec": {
   "display_name": "problem-solving",
   "language": "python",
   "name": "problem-solving"
  },
  "language_info": {
   "codemirror_mode": {
    "name": "ipython",
    "version": 3
   },
   "file_extension": ".py",
   "mimetype": "text/x-python",
   "name": "python",
   "nbconvert_exporter": "python",
   "pygments_lexer": "ipython3",
   "version": "3.10.0"
  }
 },
 "nbformat": 4,
 "nbformat_minor": 5
}
