{
 "cells": [
  {
   "cell_type": "markdown",
   "id": "b513a8de",
   "metadata": {},
   "source": [
    "### Arrays"
   ]
  },
  {
   "cell_type": "raw",
   "id": "e04b3209",
   "metadata": {},
   "source": [
    "from array import *\n",
    "\n",
    "arrayName = array(typecode, [Initializers])"
   ]
  },
  {
   "cell_type": "code",
   "execution_count": 1,
   "id": "d959f603",
   "metadata": {},
   "outputs": [],
   "source": [
    "from array import *\n",
    "\n",
    "array1 = array('i', [10, 20, 30, 40, 50])"
   ]
  },
  {
   "cell_type": "code",
   "execution_count": 2,
   "id": "45118f60",
   "metadata": {},
   "outputs": [
    {
     "name": "stdout",
     "output_type": "stream",
     "text": [
      "\u001b[1;31mType:\u001b[0m        array\n",
      "\u001b[1;31mString form:\u001b[0m array('i', [10, 20, 30, 40, 50])\n",
      "\u001b[1;31mLength:\u001b[0m      5\n",
      "\u001b[1;31mDocstring:\u001b[0m  \n",
      "array(typecode [, initializer]) -> array\n",
      "\n",
      "Return a new array whose items are restricted by typecode, and\n",
      "initialized from the optional initializer value, which must be a list,\n",
      "string or iterable over elements of the appropriate type.\n",
      "\n",
      "Arrays represent basic values and behave very much like lists, except\n",
      "the type of objects stored in them is constrained. The type is specified\n",
      "at object creation time by using a type code, which is a single character.\n",
      "The following type codes are defined:\n",
      "\n",
      "    Type code   C Type             Minimum size in bytes\n",
      "    'b'         signed integer     1\n",
      "    'B'         unsigned integer   1\n",
      "    'u'         Unicode character  2 (see note)\n",
      "    'h'         signed integer     2\n",
      "    'H'         unsigned integer   2\n",
      "    'i'         signed integer     2\n",
      "    'I'         unsigned integer   2\n",
      "    'l'         signed integer     4\n",
      "    'L'         unsigned integer   4\n",
      "    'q'         signed integer     8 (see note)\n",
      "    'Q'         unsigned integer   8 (see note)\n",
      "    'f'         floating point     4\n",
      "    'd'         floating point     8\n",
      "\n",
      "NOTE: The 'u' typecode corresponds to Python's unicode character. On\n",
      "narrow builds this is 2-bytes on wide builds this is 4-bytes.\n",
      "\n",
      "NOTE: The 'q' and 'Q' type codes are only available if the platform\n",
      "C compiler used to build Python supports 'long long', or, on Windows,\n",
      "'__int64'.\n",
      "\n",
      "Methods:\n",
      "\n",
      "append() -- append a new item to the end of the array\n",
      "buffer_info() -- return information giving the current memory info\n",
      "byteswap() -- byteswap all the items of the array\n",
      "count() -- return number of occurrences of an object\n",
      "extend() -- extend array by appending multiple elements from an iterable\n",
      "fromfile() -- read items from a file object\n",
      "fromlist() -- append items from the list\n",
      "frombytes() -- append items from the string\n",
      "index() -- return index of first occurrence of an object\n",
      "insert() -- insert a new item into the array at a provided position\n",
      "pop() -- remove and return item (default last)\n",
      "remove() -- remove first occurrence of an object\n",
      "reverse() -- reverse the order of the items in the array\n",
      "tofile() -- write all items to a file object\n",
      "tolist() -- return the array converted to an ordinary list\n",
      "tobytes() -- return the array converted to a string\n",
      "\n",
      "Attributes:\n",
      "\n",
      "typecode -- the typecode character used to create the array\n",
      "itemsize -- the length in bytes of one array item\n"
     ]
    }
   ],
   "source": [
    "?array1"
   ]
  },
  {
   "cell_type": "code",
   "execution_count": 3,
   "id": "7480ec6d",
   "metadata": {},
   "outputs": [
    {
     "name": "stdout",
     "output_type": "stream",
     "text": [
      "array('i', [10, 20, 30, 40, 50])\n"
     ]
    }
   ],
   "source": [
    "print(array1)"
   ]
  },
  {
   "cell_type": "code",
   "execution_count": 4,
   "id": "14a740fa",
   "metadata": {},
   "outputs": [
    {
     "data": {
      "text/plain": [
       "array.array"
      ]
     },
     "execution_count": 4,
     "metadata": {},
     "output_type": "execute_result"
    }
   ],
   "source": [
    "type(array1)"
   ]
  },
  {
   "cell_type": "code",
   "execution_count": 5,
   "id": "bb552a08",
   "metadata": {},
   "outputs": [
    {
     "name": "stdout",
     "output_type": "stream",
     "text": [
      "10\n",
      "20\n",
      "30\n",
      "40\n",
      "50\n"
     ]
    }
   ],
   "source": [
    "for x in array1:\n",
    "    print(x)"
   ]
  },
  {
   "cell_type": "markdown",
   "id": "4ce9f90f",
   "metadata": {},
   "source": [
    "#### Accessing ele"
   ]
  },
  {
   "cell_type": "code",
   "execution_count": 6,
   "id": "f142d94a",
   "metadata": {},
   "outputs": [
    {
     "data": {
      "text/plain": [
       "10"
      ]
     },
     "execution_count": 6,
     "metadata": {},
     "output_type": "execute_result"
    }
   ],
   "source": [
    "array1[0]"
   ]
  },
  {
   "cell_type": "code",
   "execution_count": 7,
   "id": "1ed36323",
   "metadata": {},
   "outputs": [
    {
     "data": {
      "text/plain": [
       "40"
      ]
     },
     "execution_count": 7,
     "metadata": {},
     "output_type": "execute_result"
    }
   ],
   "source": [
    "array1[3]"
   ]
  },
  {
   "cell_type": "markdown",
   "id": "14c1b549",
   "metadata": {},
   "source": [
    "#### Insert Operation"
   ]
  },
  {
   "cell_type": "code",
   "execution_count": 8,
   "id": "4e91da06",
   "metadata": {},
   "outputs": [],
   "source": [
    "array1.insert(1, 60)"
   ]
  },
  {
   "cell_type": "code",
   "execution_count": 9,
   "id": "44623959",
   "metadata": {},
   "outputs": [
    {
     "data": {
      "text/plain": [
       "array('i', [10, 60, 20, 30, 40, 50])"
      ]
     },
     "execution_count": 9,
     "metadata": {},
     "output_type": "execute_result"
    }
   ],
   "source": [
    "array1"
   ]
  },
  {
   "cell_type": "markdown",
   "id": "5943e925",
   "metadata": {},
   "source": [
    "#### Delete Operation"
   ]
  },
  {
   "cell_type": "code",
   "execution_count": 10,
   "id": "1fb972d8",
   "metadata": {},
   "outputs": [],
   "source": [
    "array1.remove(20)"
   ]
  },
  {
   "cell_type": "code",
   "execution_count": 11,
   "id": "a70c6354",
   "metadata": {},
   "outputs": [
    {
     "data": {
      "text/plain": [
       "array('i', [10, 60, 30, 40, 50])"
      ]
     },
     "execution_count": 11,
     "metadata": {},
     "output_type": "execute_result"
    }
   ],
   "source": [
    "array1"
   ]
  },
  {
   "cell_type": "markdown",
   "id": "a17b156b",
   "metadata": {},
   "source": [
    "#### Search Op"
   ]
  },
  {
   "cell_type": "code",
   "execution_count": 12,
   "id": "f5d385a8",
   "metadata": {},
   "outputs": [
    {
     "data": {
      "text/plain": [
       "3"
      ]
     },
     "execution_count": 12,
     "metadata": {},
     "output_type": "execute_result"
    }
   ],
   "source": [
    "array1.index(40)"
   ]
  },
  {
   "cell_type": "markdown",
   "id": "0c3cf6d3",
   "metadata": {},
   "source": [
    "#### Update Op"
   ]
  },
  {
   "cell_type": "code",
   "execution_count": 13,
   "id": "2d60d1a6",
   "metadata": {},
   "outputs": [],
   "source": [
    "array1[2] = 67"
   ]
  },
  {
   "cell_type": "code",
   "execution_count": 14,
   "id": "b0aa9fd1",
   "metadata": {},
   "outputs": [
    {
     "data": {
      "text/plain": [
       "array('i', [10, 60, 67, 40, 50])"
      ]
     },
     "execution_count": 14,
     "metadata": {},
     "output_type": "execute_result"
    }
   ],
   "source": [
    "array1"
   ]
  },
  {
   "cell_type": "markdown",
   "id": "fea89235",
   "metadata": {},
   "source": [
    "### Lists"
   ]
  },
  {
   "cell_type": "code",
   "execution_count": 15,
   "id": "d4b1f19c",
   "metadata": {},
   "outputs": [
    {
     "data": {
      "text/plain": [
       "['physics', 'chemistry', 1997, 2000]"
      ]
     },
     "execution_count": 15,
     "metadata": {},
     "output_type": "execute_result"
    }
   ],
   "source": [
    "lis1 = ['physics', 'chemistry', 1997, 2000]\n",
    "\n",
    "lis1"
   ]
  },
  {
   "cell_type": "code",
   "execution_count": 16,
   "id": "1637b491",
   "metadata": {},
   "outputs": [
    {
     "data": {
      "text/plain": [
       "['physics', 'chemistry', 1997, 2000, 'what']"
      ]
     },
     "execution_count": 16,
     "metadata": {},
     "output_type": "execute_result"
    }
   ],
   "source": [
    "lis1.append('what')\n",
    "\n",
    "lis1"
   ]
  },
  {
   "cell_type": "code",
   "execution_count": 17,
   "id": "2243b63e",
   "metadata": {},
   "outputs": [],
   "source": [
    "lis1.extend(['hihi', 'new'])"
   ]
  },
  {
   "cell_type": "code",
   "execution_count": 18,
   "id": "72bb7d64",
   "metadata": {},
   "outputs": [
    {
     "data": {
      "text/plain": [
       "['physics', 'chemistry', 1997, 2000, 'what', 'hihi', 'new']"
      ]
     },
     "execution_count": 18,
     "metadata": {},
     "output_type": "execute_result"
    }
   ],
   "source": [
    "lis1"
   ]
  },
  {
   "cell_type": "markdown",
   "id": "9a28ca74",
   "metadata": {},
   "source": [
    "### Tuples"
   ]
  },
  {
   "cell_type": "code",
   "execution_count": 19,
   "id": "e257a382",
   "metadata": {},
   "outputs": [],
   "source": [
    "tup1 = 'a', 2, 4, 5"
   ]
  },
  {
   "cell_type": "code",
   "execution_count": 20,
   "id": "81b87248",
   "metadata": {},
   "outputs": [
    {
     "data": {
      "text/plain": [
       "('a', 2, 4, 5)"
      ]
     },
     "execution_count": 20,
     "metadata": {},
     "output_type": "execute_result"
    }
   ],
   "source": [
    "tup1"
   ]
  },
  {
   "cell_type": "markdown",
   "id": "349d50c8",
   "metadata": {},
   "source": [
    "#### Empty Tuple"
   ]
  },
  {
   "cell_type": "code",
   "execution_count": 21,
   "id": "92d19b61",
   "metadata": {},
   "outputs": [
    {
     "data": {
      "text/plain": [
       "()"
      ]
     },
     "execution_count": 21,
     "metadata": {},
     "output_type": "execute_result"
    }
   ],
   "source": [
    "tup2 = ()\n",
    "\n",
    "tup2"
   ]
  },
  {
   "cell_type": "markdown",
   "id": "55039e81",
   "metadata": {},
   "source": [
    "#### Single Tuple"
   ]
  },
  {
   "cell_type": "code",
   "execution_count": 22,
   "id": "a9acae10",
   "metadata": {},
   "outputs": [
    {
     "data": {
      "text/plain": [
       "(40,)"
      ]
     },
     "execution_count": 22,
     "metadata": {},
     "output_type": "execute_result"
    }
   ],
   "source": [
    "tup3 = (40, )\n",
    "\n",
    "tup3"
   ]
  },
  {
   "cell_type": "code",
   "execution_count": 32,
   "id": "7a78a024",
   "metadata": {},
   "outputs": [
    {
     "name": "stdout",
     "output_type": "stream",
     "text": [
      "23 <class 'int'>\n"
     ]
    }
   ],
   "source": [
    "what = (23)\n",
    "\n",
    "print(what, type(what))"
   ]
  },
  {
   "cell_type": "raw",
   "id": "1ac02b14",
   "metadata": {},
   "source": [
    "Dictionary"
   ]
  },
  {
   "cell_type": "code",
   "execution_count": null,
   "id": "12c7fa1d",
   "metadata": {},
   "outputs": [],
   "source": []
  },
  {
   "cell_type": "raw",
   "id": "2472432c",
   "metadata": {},
   "source": [
    "2D ARRAY"
   ]
  },
  {
   "cell_type": "code",
   "execution_count": 33,
   "id": "e7911ee7",
   "metadata": {},
   "outputs": [
    {
     "data": {
      "text/plain": [
       "[[1, 2, 3], [3, 4, 5], [5, 6, 7]]"
      ]
     },
     "execution_count": 33,
     "metadata": {},
     "output_type": "execute_result"
    }
   ],
   "source": [
    "T = [[1, 2, 3], [3, 4, 5], [5, 6, 7]]\n",
    "\n",
    "T"
   ]
  },
  {
   "cell_type": "code",
   "execution_count": 34,
   "id": "85b484f5",
   "metadata": {},
   "outputs": [
    {
     "data": {
      "text/plain": [
       "[[1, 2, 3], [34, 34], [3, 4, 5], [5, 6, 7]]"
      ]
     },
     "execution_count": 34,
     "metadata": {},
     "output_type": "execute_result"
    }
   ],
   "source": [
    "T.insert(1, [34, 34])\n",
    "\n",
    "T"
   ]
  },
  {
   "cell_type": "code",
   "execution_count": null,
   "id": "c87fa8b4",
   "metadata": {},
   "outputs": [],
   "source": []
  },
  {
   "cell_type": "raw",
   "id": "0b5119d5",
   "metadata": {},
   "source": [
    "Matrix"
   ]
  },
  {
   "cell_type": "code",
   "execution_count": 36,
   "id": "e69844f9",
   "metadata": {},
   "outputs": [],
   "source": [
    "import numpy as np"
   ]
  },
  {
   "cell_type": "code",
   "execution_count": 37,
   "id": "ebe5abd6",
   "metadata": {},
   "outputs": [
    {
     "data": {
      "text/plain": [
       "array([['Mon', '18', '20', '22', '17'],\n",
       "       ['Tue', '11', '18', '21', '18'],\n",
       "       ['Wed', '15', '21', '20', '19'],\n",
       "       ['Thu', '11', '20', '22', '21'],\n",
       "       ['Fri', '18', '17', '23', '22'],\n",
       "       ['Sat', '12', '22', '20', '18'],\n",
       "       ['Sun', '13', '15', '19', '16']], dtype='<U11')"
      ]
     },
     "execution_count": 37,
     "metadata": {},
     "output_type": "execute_result"
    }
   ],
   "source": [
    "a = np.array([['Mon',18,20,22,17],['Tue',11,18,21,18],\n",
    "   ['Wed',15,21,20,19],['Thu',11,20,22,21],\n",
    "   ['Fri',18,17,23,22],['Sat',12,22,20,18],\n",
    "   ['Sun',13,15,19,16]])\n",
    "\n",
    "a"
   ]
  },
  {
   "cell_type": "code",
   "execution_count": 39,
   "id": "29e8bcf9",
   "metadata": {},
   "outputs": [
    {
     "name": "stdout",
     "output_type": "stream",
     "text": [
      "[['Mon' '18' '20' '22' '17']\n",
      " ['Tue' '11' '18' '21' '18']\n",
      " ['Wed' '15' '21' '20' '19']\n",
      " ['Thu' '11' '20' '22' '21']\n",
      " ['Fri' '18' '17' '23' '22']\n",
      " ['Sat' '12' '22' '20' '18']\n",
      " ['Sun' '13' '15' '19' '16']]\n"
     ]
    }
   ],
   "source": [
    "a.reshape((7, 5))\n",
    "\n",
    "print(a)"
   ]
  },
  {
   "cell_type": "code",
   "execution_count": 41,
   "id": "7dacdd45",
   "metadata": {},
   "outputs": [
    {
     "data": {
      "text/plain": [
       "array(['Wed', '15', '21', '20', '19'], dtype='<U11')"
      ]
     },
     "execution_count": 41,
     "metadata": {},
     "output_type": "execute_result"
    }
   ],
   "source": [
    "a[2]"
   ]
  },
  {
   "cell_type": "code",
   "execution_count": 46,
   "id": "753d069b",
   "metadata": {},
   "outputs": [
    {
     "data": {
      "text/plain": [
       "array([['Mon', '18', '20', '22', '17'],\n",
       "       ['Tue', '11', '18', '21', '18'],\n",
       "       ['Wed', '15', '21', '20', '19'],\n",
       "       ['Thu', '11', '20', '22', '21'],\n",
       "       ['Fri', '18', '17', '23', '22'],\n",
       "       ['Sat', '12', '22', '20', '18'],\n",
       "       ['Sun', '13', '15', '19', '16'],\n",
       "       ['Avg', '12', '15', '13', '11']], dtype='<U11')"
      ]
     },
     "execution_count": 46,
     "metadata": {},
     "output_type": "execute_result"
    }
   ],
   "source": [
    "a_d = np.append(a, [['Avg', 12, 15, 13, 11]], 0)\n",
    "\n",
    "a_d"
   ]
  },
  {
   "cell_type": "code",
   "execution_count": 47,
   "id": "ef79f5c4",
   "metadata": {},
   "outputs": [
    {
     "data": {
      "text/plain": [
       "array([['Mon', '18', '20', '22', '17'],\n",
       "       ['Tue', '11', '18', '21', '18'],\n",
       "       ['Wed', '15', '21', '20', '19'],\n",
       "       ['Thu', '11', '20', '22', '21'],\n",
       "       ['Fri', '18', '17', '23', '22'],\n",
       "       ['Sat', '12', '22', '20', '18'],\n",
       "       ['Sun', '13', '15', '19', '16']], dtype='<U11')"
      ]
     },
     "execution_count": 47,
     "metadata": {},
     "output_type": "execute_result"
    }
   ],
   "source": [
    "a"
   ]
  },
  {
   "cell_type": "code",
   "execution_count": 49,
   "id": "461c360d",
   "metadata": {},
   "outputs": [
    {
     "data": {
      "text/plain": [
       "array([['Mon', '18', '20', '22', '17', '1'],\n",
       "       ['Tue', '11', '18', '21', '18', '2'],\n",
       "       ['Wed', '15', '21', '20', '19', '3'],\n",
       "       ['Thu', '11', '20', '22', '21', '4'],\n",
       "       ['Fri', '18', '17', '23', '22', '5'],\n",
       "       ['Sat', '12', '22', '20', '18', '6'],\n",
       "       ['Sun', '13', '15', '19', '16', '7']], dtype='<U11')"
      ]
     },
     "execution_count": 49,
     "metadata": {},
     "output_type": "execute_result"
    }
   ],
   "source": [
    "a_insert = np.insert(a, [5],[[1],[2],[3],[4],[5],[6],[7]],1)\n",
    "\n",
    "a_insert"
   ]
  },
  {
   "cell_type": "code",
   "execution_count": 50,
   "id": "4618d63e",
   "metadata": {},
   "outputs": [],
   "source": [
    "?np.insert"
   ]
  },
  {
   "cell_type": "code",
   "execution_count": 52,
   "id": "d9b84226",
   "metadata": {},
   "outputs": [
    {
     "data": {
      "text/plain": [
       "array([['18', '20', '22', '17'],\n",
       "       ['11', '18', '21', '18'],\n",
       "       ['15', '21', '20', '19'],\n",
       "       ['11', '20', '22', '21'],\n",
       "       ['18', '17', '23', '22'],\n",
       "       ['12', '22', '20', '18'],\n",
       "       ['13', '15', '19', '16']], dtype='<U11')"
      ]
     },
     "execution_count": 52,
     "metadata": {},
     "output_type": "execute_result"
    }
   ],
   "source": [
    "np.delete(a, [0], 1)"
   ]
  },
  {
   "cell_type": "code",
   "execution_count": 53,
   "id": "bc14fa90",
   "metadata": {},
   "outputs": [
    {
     "data": {
      "text/plain": [
       "array([['Mon', '18', '20', '22', '17'],\n",
       "       ['Tue', '11', '18', '21', '18'],\n",
       "       ['Thu', '0', '0', '0', '0'],\n",
       "       ['Thu', '11', '20', '22', '21'],\n",
       "       ['Fri', '18', '17', '23', '22'],\n",
       "       ['Sat', '12', '22', '20', '18'],\n",
       "       ['Sun', '13', '15', '19', '16']], dtype='<U11')"
      ]
     },
     "execution_count": 53,
     "metadata": {},
     "output_type": "execute_result"
    }
   ],
   "source": [
    "a[2] = ['Thu', 0, 0, 0, 0]\n",
    "\n",
    "a"
   ]
  },
  {
   "cell_type": "code",
   "execution_count": 54,
   "id": "aa54111a",
   "metadata": {},
   "outputs": [
    {
     "name": "stdout",
     "output_type": "stream",
     "text": [
      "{'Sun', 'Wed', 'Thu', 'Mon', 'Sat', 'Tue', 'Fri'}\n"
     ]
    }
   ],
   "source": [
    "DaysA = set([\"Mon\",\"Tue\",\"Wed\"])\n",
    "DaysB = set([\"Wed\",\"Thu\",\"Fri\",\"Sat\",\"Sun\"])\n",
    "AllDays = DaysA|DaysB\n",
    "print(AllDays)"
   ]
  },
  {
   "cell_type": "code",
   "execution_count": 56,
   "id": "836fbf33",
   "metadata": {},
   "outputs": [
    {
     "name": "stdout",
     "output_type": "stream",
     "text": [
      "{'Thu', 'Wed', 'Mon', 'Sat', 'Tue', 'Fri'}\n"
     ]
    }
   ],
   "source": [
    "Days=set([\"Mon\",\"Tue\",'Sun', \"Wed\",\"Thu\",\"Fri\",\"Sat\"])\n",
    " \n",
    "Days.discard(\"Sun\")\n",
    "print(Days)"
   ]
  },
  {
   "cell_type": "code",
   "execution_count": 58,
   "id": "5141e9f6",
   "metadata": {},
   "outputs": [
    {
     "name": "stdout",
     "output_type": "stream",
     "text": [
      "{'Wed'}\n"
     ]
    }
   ],
   "source": [
    "DaysA = set([\"Mon\",\"Tue\",\"Wed\"])\n",
    "DaysB = set([\"Wed\",\"Thu\",\"Fri\",\"Sat\",\"Sun\"])\n",
    "AllDays = DaysA & DaysB\n",
    "print(AllDays)"
   ]
  },
  {
   "cell_type": "code",
   "execution_count": 59,
   "id": "4b5d5c78",
   "metadata": {},
   "outputs": [
    {
     "name": "stdout",
     "output_type": "stream",
     "text": [
      "{'Tue', 'Mon'}\n"
     ]
    }
   ],
   "source": [
    "DaysA = set([\"Mon\",\"Tue\",\"Wed\"])\n",
    "DaysB = set([\"Wed\",\"Thu\",\"Fri\",\"Sat\",\"Sun\"])\n",
    "AllDays = DaysA - DaysB\n",
    "print(AllDays)"
   ]
  },
  {
   "cell_type": "code",
   "execution_count": 57,
   "id": "ccb6dd87",
   "metadata": {},
   "outputs": [
    {
     "name": "stdout",
     "output_type": "stream",
     "text": [
      "True\n",
      "True\n"
     ]
    }
   ],
   "source": [
    "DaysA = set([\"Mon\",\"Tue\",\"Wed\"])\n",
    "DaysB = set([\"Mon\",\"Tue\",\"Wed\",\"Thu\",\"Fri\",\"Sat\",\"Sun\"])\n",
    "SubsetRes = DaysA <= DaysB\n",
    "SupersetRes = DaysB >= DaysA\n",
    "print(SubsetRes)\n",
    "print(SupersetRes)"
   ]
  },
  {
   "cell_type": "markdown",
   "id": "29a32732",
   "metadata": {},
   "source": [
    "### Maps"
   ]
  },
  {
   "cell_type": "code",
   "execution_count": 60,
   "id": "8b5a6cb3",
   "metadata": {},
   "outputs": [
    {
     "name": "stdout",
     "output_type": "stream",
     "text": [
      "[{'day1': 'Mon', 'day2': 'Tue'}, {'day3': 'Wed', 'day1': 'Thu'}] \n",
      "\n"
     ]
    }
   ],
   "source": [
    "import collections\n",
    "\n",
    "dict1 = {'day1': 'Mon', 'day2': 'Tue'}\n",
    "dict2 = {'day3': 'Wed', 'day1': 'Thu'}\n",
    "\n",
    "res = collections.ChainMap(dict1, dict2)\n",
    "\n",
    "# Creating a single dictionary\n",
    "print(res.maps,'\\n')"
   ]
  },
  {
   "cell_type": "code",
   "execution_count": 61,
   "id": "39ee2679",
   "metadata": {
    "scrolled": true
   },
   "outputs": [
    {
     "name": "stdout",
     "output_type": "stream",
     "text": [
      "Keys = ['day3', 'day1', 'day2']\n",
      "Values = ['Wed', 'Mon', 'Tue']\n",
      "\n"
     ]
    }
   ],
   "source": [
    "print('Keys = {}'.format(list(res.keys())))\n",
    "print('Values = {}'.format(list(res.values())))\n",
    "print()"
   ]
  },
  {
   "cell_type": "code",
   "execution_count": 63,
   "id": "6d42dba7",
   "metadata": {},
   "outputs": [
    {
     "name": "stdout",
     "output_type": "stream",
     "text": [
      "elements:\n",
      "day3 = Wed\n",
      "day1 = Mon\n",
      "day2 = Tue\n",
      "\n"
     ]
    }
   ],
   "source": [
    "# Print all the elements from the result\n",
    "print('elements:')\n",
    "for key, val in res.items():\n",
    "    print('{} = {}'.format(key, val))\n",
    "print()\n"
   ]
  },
  {
   "cell_type": "code",
   "execution_count": 64,
   "id": "f46fc0db",
   "metadata": {},
   "outputs": [
    {
     "name": "stdout",
     "output_type": "stream",
     "text": [
      "day3 in res: True\n",
      "day4 in res: False\n"
     ]
    }
   ],
   "source": [
    "# Find a specific value in the result\n",
    "print('day3 in res: {}'.format(('day1' in res)))\n",
    "print('day4 in res: {}'.format(('day4' in res)))"
   ]
  },
  {
   "cell_type": "raw",
   "id": "b94eb0e0",
   "metadata": {},
   "source": [
    "Position of Maps get interchanged. They behave as stacks.\n",
    "\n",
    "If we change the order the dictionaries while clubbing them we see that the position of the elements get interchanged as if they are in a continuous chain"
   ]
  },
  {
   "cell_type": "code",
   "execution_count": 66,
   "id": "dee322c8",
   "metadata": {},
   "outputs": [
    {
     "name": "stdout",
     "output_type": "stream",
     "text": [
      "[{'day1': 'Mon', 'day2': 'Tue'}, {'day3': 'Wed', 'day4': 'Thu'}] \n",
      "\n",
      "[{'day3': 'Wed', 'day4': 'Thu'}, {'day1': 'Mon', 'day2': 'Tue'}] \n",
      "\n"
     ]
    }
   ],
   "source": [
    "import collections\n",
    "\n",
    "dict1 = {'day1': 'Mon', 'day2': 'Tue'}\n",
    "dict2 = {'day3': 'Wed', 'day4': 'Thu'}\n",
    "\n",
    "res1 = collections.ChainMap(dict1, dict2)\n",
    "print(res1.maps,'\\n')\n",
    "\n",
    "res2 = collections.ChainMap(dict2, dict1)\n",
    "print(res2.maps,'\\n')"
   ]
  },
  {
   "cell_type": "raw",
   "id": "416e0671",
   "metadata": {},
   "source": [
    "### result gets updated in chain map if updated individually"
   ]
  },
  {
   "cell_type": "code",
   "execution_count": 65,
   "id": "ffa43ac1",
   "metadata": {},
   "outputs": [
    {
     "name": "stdout",
     "output_type": "stream",
     "text": [
      "[{'day1': 'Mon', 'day2': 'Tue'}, {'day3': 'Wed', 'day4': 'Thu'}] \n",
      "\n",
      "[{'day1': 'Mon', 'day2': 'Tue'}, {'day3': 'Wed', 'day4': 'Fri'}] \n",
      "\n"
     ]
    }
   ],
   "source": [
    "import collections\n",
    "\n",
    "dict1 = {'day1': 'Mon', 'day2': 'Tue'}\n",
    "dict2 = {'day3': 'Wed', 'day4': 'Thu'}\n",
    "\n",
    "res = collections.ChainMap(dict1, dict2)\n",
    "print(res.maps,'\\n')\n",
    "\n",
    "dict2['day4'] = 'Fri'\n",
    "print(res.maps,'\\n')"
   ]
  },
  {
   "cell_type": "markdown",
   "id": "e6b79066",
   "metadata": {},
   "source": [
    "### Linked Lists"
   ]
  },
  {
   "cell_type": "code",
   "execution_count": 68,
   "id": "808c6bc2",
   "metadata": {},
   "outputs": [],
   "source": [
    "class Node:\n",
    "    def __init__(self, dataval=None):\n",
    "        self.dataval = dataval\n",
    "        self.nextval = None\n",
    "\n",
    "class SLinkedList:\n",
    "    def __init__(self):\n",
    "        self.headval = None"
   ]
  },
  {
   "cell_type": "code",
   "execution_count": 69,
   "id": "2e680dcb",
   "metadata": {},
   "outputs": [],
   "source": [
    "list1 = SLinkedList()\n",
    "list1.headval = Node(\"Mon\")\n",
    "e2 = Node(\"Tue\")\n",
    "e3 = Node(\"Wed\")\n",
    "# Link first Node to second node\n",
    "list1.headval.nextval = e2\n",
    "\n",
    "# Link second Node to third node\n",
    "e2.nextval = e3"
   ]
  },
  {
   "cell_type": "code",
   "execution_count": 70,
   "id": "6329371e",
   "metadata": {},
   "outputs": [
    {
     "name": "stdout",
     "output_type": "stream",
     "text": [
      "Mon\n",
      "Tue\n",
      "Wed\n"
     ]
    }
   ],
   "source": [
    "class Node:\n",
    "    def __init__(self, dataval=None):\n",
    "        self.dataval = dataval\n",
    "        self.nextval = None\n",
    "\n",
    "class SLinkedList:\n",
    "    def __init__(self):\n",
    "        self.headval = None\n",
    "\n",
    "    def listprint(self):\n",
    "        printval = self.headval\n",
    "        while printval is not None:\n",
    "            print (printval.dataval)\n",
    "            printval = printval.nextval\n",
    "\n",
    "list = SLinkedList()\n",
    "list.headval = Node(\"Mon\")\n",
    "e2 = Node(\"Tue\")\n",
    "e3 = Node(\"Wed\")\n",
    "\n",
    "# Link first Node to second node\n",
    "list.headval.nextval = e2\n",
    "\n",
    "# Link second Node to third node\n",
    "e2.nextval = e3\n",
    "\n",
    "list.listprint()"
   ]
  },
  {
   "cell_type": "code",
   "execution_count": 73,
   "id": "027dffed",
   "metadata": {},
   "outputs": [
    {
     "name": "stdout",
     "output_type": "stream",
     "text": [
      "Sun\n",
      "Mon\n",
      "Tue\n",
      "Wed\n"
     ]
    }
   ],
   "source": [
    "class Node:\n",
    "    def __init__(self, dataval=None):\n",
    "        self.dataval = dataval\n",
    "        self.nextval = None\n",
    "\n",
    "class SLinkedList:\n",
    "    def __init__(self):\n",
    "        self.headval = None\n",
    "    \n",
    "    # Print the linked list\n",
    "    def listprint(self):\n",
    "        printval = self.headval\n",
    "        while printval is not None:\n",
    "            print (printval.dataval)\n",
    "            printval = printval.nextval\n",
    "    def AtBegining(self,newdata):\n",
    "        NewNode = Node(newdata)\n",
    "\n",
    "        # Update the new nodes next val to existing node\n",
    "        NewNode.nextval = self.headval\n",
    "        self.headval = NewNode\n",
    "\n",
    "list = SLinkedList()\n",
    "list.headval = Node(\"Mon\")\n",
    "e2 = Node(\"Tue\")\n",
    "e3 = Node(\"Wed\")\n",
    "\n",
    "list.headval.nextval = e2\n",
    "e2.nextval = e3\n",
    "\n",
    "list.AtBegining(\"Sun\")\n",
    "list.listprint()"
   ]
  },
  {
   "cell_type": "code",
   "execution_count": 75,
   "id": "4d1185f6",
   "metadata": {},
   "outputs": [
    {
     "name": "stdout",
     "output_type": "stream",
     "text": [
      "3\n"
     ]
    }
   ],
   "source": [
    "class Queue:\n",
    "    def __init__(self):\n",
    "        self.queue = []\n",
    "\n",
    "    def addtoq(self,dataval):\n",
    "# Insert method to add element\n",
    "        if dataval not in self.queue:\n",
    "            self.queue.insert(0,dataval)\n",
    "            return True\n",
    "        return False\n",
    "\n",
    "    def size(self):\n",
    "        return len(self.queue)\n",
    "\n",
    "TheQueue = Queue()\n",
    "TheQueue.addtoq(\"Mon\")\n",
    "TheQueue.addtoq(\"Tue\")\n",
    "TheQueue.addtoq(\"Wed\")\n",
    "print(TheQueue.size())"
   ]
  },
  {
   "cell_type": "code",
   "execution_count": 79,
   "id": "889968a5",
   "metadata": {},
   "outputs": [
    {
     "data": {
      "text/plain": [
       "['__class__',\n",
       " '__delattr__',\n",
       " '__dict__',\n",
       " '__dir__',\n",
       " '__doc__',\n",
       " '__eq__',\n",
       " '__format__',\n",
       " '__ge__',\n",
       " '__getattribute__',\n",
       " '__gt__',\n",
       " '__hash__',\n",
       " '__init__',\n",
       " '__init_subclass__',\n",
       " '__le__',\n",
       " '__lt__',\n",
       " '__module__',\n",
       " '__ne__',\n",
       " '__new__',\n",
       " '__reduce__',\n",
       " '__reduce_ex__',\n",
       " '__repr__',\n",
       " '__setattr__',\n",
       " '__sizeof__',\n",
       " '__str__',\n",
       " '__subclasshook__',\n",
       " '__weakref__',\n",
       " 'addtoq',\n",
       " 'queue',\n",
       " 'size']"
      ]
     },
     "execution_count": 79,
     "metadata": {},
     "output_type": "execute_result"
    }
   ],
   "source": [
    "dir(TheQueue)"
   ]
  },
  {
   "cell_type": "code",
   "execution_count": 83,
   "id": "1562c7a0",
   "metadata": {
    "scrolled": true
   },
   "outputs": [
    {
     "data": {
      "text/plain": [
       "['Wasd', 'Wed', 'Tue', 'Mon']"
      ]
     },
     "execution_count": 83,
     "metadata": {},
     "output_type": "execute_result"
    }
   ],
   "source": [
    "TheQueue.queue"
   ]
  },
  {
   "cell_type": "code",
   "execution_count": 85,
   "id": "53c918cf",
   "metadata": {},
   "outputs": [
    {
     "data": {
      "text/plain": [
       "False"
      ]
     },
     "execution_count": 85,
     "metadata": {},
     "output_type": "execute_result"
    }
   ],
   "source": [
    "TheQueue.addtoq(\"Mon\")"
   ]
  },
  {
   "cell_type": "code",
   "execution_count": 87,
   "id": "bf0fd9fc",
   "metadata": {},
   "outputs": [
    {
     "data": {
      "text/plain": [
       "4"
      ]
     },
     "execution_count": 87,
     "metadata": {},
     "output_type": "execute_result"
    }
   ],
   "source": [
    "TheQueue.size()"
   ]
  },
  {
   "cell_type": "code",
   "execution_count": 78,
   "id": "501187fe",
   "metadata": {},
   "outputs": [
    {
     "ename": "TypeError",
     "evalue": "'Queue' object is not iterable",
     "output_type": "error",
     "traceback": [
      "\u001b[1;31m---------------------------------------------------------\u001b[0m",
      "\u001b[1;31mTypeError\u001b[0m               Traceback (most recent call last)",
      "\u001b[1;32m<ipython-input-78-dad38ad54a83>\u001b[0m in \u001b[0;36m<module>\u001b[1;34m\u001b[0m\n\u001b[1;32m----> 1\u001b[1;33m \u001b[1;32mfor\u001b[0m \u001b[0ml\u001b[0m \u001b[1;32min\u001b[0m \u001b[0mTheQueue\u001b[0m\u001b[1;33m:\u001b[0m\u001b[1;33m\u001b[0m\u001b[1;33m\u001b[0m\u001b[0m\n\u001b[0m\u001b[0;32m      2\u001b[0m     \u001b[0mprint\u001b[0m\u001b[1;33m(\u001b[0m\u001b[0ml\u001b[0m\u001b[1;33m)\u001b[0m\u001b[1;33m\u001b[0m\u001b[1;33m\u001b[0m\u001b[0m\n",
      "\u001b[1;31mTypeError\u001b[0m: 'Queue' object is not iterable"
     ]
    }
   ],
   "source": [
    "for l in TheQueue:\n",
    "    print(l)"
   ]
  },
  {
   "cell_type": "code",
   "execution_count": 77,
   "id": "cc92c8da",
   "metadata": {
    "scrolled": true
   },
   "outputs": [
    {
     "name": "stdout",
     "output_type": "stream",
     "text": [
      "<__main__.Queue object at 0x00000267FACE14C0>\n"
     ]
    }
   ],
   "source": [
    "print(TheQueue)"
   ]
  },
  {
   "cell_type": "markdown",
   "id": "0382986d",
   "metadata": {},
   "source": [
    "### Bubble Sort Algorithm"
   ]
  },
  {
   "cell_type": "code",
   "execution_count": 2,
   "id": "469d0bd2",
   "metadata": {},
   "outputs": [
    {
     "name": "stdout",
     "output_type": "stream",
     "text": [
      "[2, 6, 11, 19, 27, 31, 45, 121]\n"
     ]
    }
   ],
   "source": [
    "def bubblesort(list):\n",
    "\n",
    "# Swap the elements to arrange in order\n",
    "    for iter_num in range(len(list)-1,0,-1):\n",
    "        for idx in range(iter_num):\n",
    "            if list[idx]>list[idx+1]:\n",
    "                temp = list[idx]\n",
    "                list[idx] = list[idx+1]\n",
    "                list[idx+1] = temp\n",
    "                \n",
    "list = [19,2,31,45,6,11,121,27]\n",
    "\n",
    "bubblesort(list)\n",
    "\n",
    "print(list)"
   ]
  },
  {
   "cell_type": "markdown",
   "id": "c609422c",
   "metadata": {},
   "source": [
    "### Merge Sort Algorithm"
   ]
  },
  {
   "cell_type": "code",
   "execution_count": 3,
   "id": "e7d88460",
   "metadata": {},
   "outputs": [
    {
     "name": "stdout",
     "output_type": "stream",
     "text": [
      "[11, 12, 22, 25, 34, 64, 90]\n"
     ]
    }
   ],
   "source": [
    "def merge_sort(unsorted_list):\n",
    "    if len(unsorted_list) <= 1:\n",
    "        return unsorted_list\n",
    "    \n",
    "    # Find the middle point and devide it\n",
    "    middle = len(unsorted_list) // 2\n",
    "    left_list = unsorted_list[:middle]\n",
    "    right_list = unsorted_list[middle:]\n",
    "\n",
    "    left_list = merge_sort(left_list)\n",
    "    right_list = merge_sort(right_list)\n",
    "    return list(merge(left_list, right_list))\n",
    "\n",
    "# Merge the sorted halves\n",
    "def merge(left_half, right_half):\n",
    "    \n",
    "    res = []\n",
    "    \n",
    "    while len(left_half) != 0 and len(right_half) != 0:\n",
    "        \n",
    "        if left_half[0] < right_half[0]:\n",
    "            res.append(left_half[0])\n",
    "            left_half.remove(left_half[0])\n",
    "        \n",
    "        else:\n",
    "            res.append(right_half[0])\n",
    "            right_half.remove(right_half[0])\n",
    "    \n",
    "    if len(left_half) == 0:\n",
    "        res = res + right_half\n",
    "    else:\n",
    "        res = res + left_half\n",
    "    return res\n",
    "\n",
    "unsorted_list = [64, 34, 25, 12, 22, 11, 90]\n",
    "\n",
    "print(merge_sort(unsorted_list))"
   ]
  },
  {
   "cell_type": "code",
   "execution_count": 33,
   "id": "1eecfc19",
   "metadata": {},
   "outputs": [
    {
     "name": "stdout",
     "output_type": "stream",
     "text": [
      "Given array is\n",
      "12 11 13 5 6 7 \n",
      "Sorted array is: \n",
      "5 6 7 11 12 13 \n"
     ]
    }
   ],
   "source": [
    "\n",
    "def merge_sort(unsorted_array):\n",
    "    if len(unsorted_array) > 1:\n",
    "        mid = len(unsorted_array) // 2  # Finding the mid of the array\n",
    "        left = unsorted_array[:mid]  # Dividing the array elements\n",
    "        right = unsorted_array[mid:]  # into 2 halves\n",
    "\n",
    "        merge_sort(left)\n",
    "        merge_sort(right)\n",
    "\n",
    "        i = j = k = 0\n",
    "\n",
    "        #  data to temp arrays L[] and R[]\n",
    "        while i < len(left) and j < len(right):\n",
    "            if left[i] < right[j]:\n",
    "                unsorted_array[k] = left[i]\n",
    "                i += 1\n",
    "            else:\n",
    "                unsorted_array[k] = right[j]\n",
    "                j += 1\n",
    "            k += 1\n",
    "\n",
    "        # Checking if any element was left\n",
    "        while i < len(left):\n",
    "            unsorted_array[k] = left[i]\n",
    "            i += 1\n",
    "            k += 1\n",
    "\n",
    "        while j < len(right):\n",
    "            unsorted_array[k] = right[j]\n",
    "            j += 1\n",
    "            k += 1\n",
    "\n",
    "\n",
    "# Code to print the list\n",
    "def print_list(array1):\n",
    "    for i in range(len(array1)):\n",
    "        print(array1[i], end=\" \")\n",
    "    print()\n",
    "\n",
    "\n",
    "# driver code to test the above code\n",
    "if __name__ == '__main__':\n",
    "    array = [12, 11, 13, 5, 6, 7]\n",
    "    print(\"Given array is\", end=\"\\n\")\n",
    "    print_list(array)\n",
    "    merge_sort(array)\n",
    "    print(\"Sorted array is: \", end=\"\\n\")\n",
    "    print_list(array)\n"
   ]
  },
  {
   "cell_type": "code",
   "execution_count": 13,
   "id": "ab6e0a9d",
   "metadata": {},
   "outputs": [
    {
     "name": "stdout",
     "output_type": "stream",
     "text": [
      "[2, 4, 6]\n"
     ]
    }
   ],
   "source": [
    "l = [1, 2, 3, 4, 5, 6]\n",
    "\n",
    "for index, item in enumerate(l):\n",
    "    l.pop(index)\n",
    "    \n",
    "print(l)"
   ]
  },
  {
   "cell_type": "code",
   "execution_count": 12,
   "id": "fdd3b871",
   "metadata": {},
   "outputs": [
    {
     "name": "stdout",
     "output_type": "stream",
     "text": [
      "[1, 3, 5]\n"
     ]
    }
   ],
   "source": [
    "l = [1, 2, 3, 4, 5, 6]\n",
    "\n",
    "for index, item in enumerate(l.copy()):\n",
    "    if index%2 != 0:\n",
    "        l.remove(item)\n",
    "    \n",
    "print(l)"
   ]
  },
  {
   "cell_type": "code",
   "execution_count": 9,
   "id": "58869017",
   "metadata": {},
   "outputs": [
    {
     "data": {
      "text/plain": [
       "[2, 4, 6]"
      ]
     },
     "execution_count": 9,
     "metadata": {},
     "output_type": "execute_result"
    }
   ],
   "source": [
    "l.copy()"
   ]
  },
  {
   "cell_type": "code",
   "execution_count": 7,
   "id": "3d700a75",
   "metadata": {
    "scrolled": true
   },
   "outputs": [
    {
     "data": {
      "text/plain": [
       "['__add__',\n",
       " '__class__',\n",
       " '__class_getitem__',\n",
       " '__contains__',\n",
       " '__delattr__',\n",
       " '__delitem__',\n",
       " '__dir__',\n",
       " '__doc__',\n",
       " '__eq__',\n",
       " '__format__',\n",
       " '__ge__',\n",
       " '__getattribute__',\n",
       " '__getitem__',\n",
       " '__gt__',\n",
       " '__hash__',\n",
       " '__iadd__',\n",
       " '__imul__',\n",
       " '__init__',\n",
       " '__init_subclass__',\n",
       " '__iter__',\n",
       " '__le__',\n",
       " '__len__',\n",
       " '__lt__',\n",
       " '__mul__',\n",
       " '__ne__',\n",
       " '__new__',\n",
       " '__reduce__',\n",
       " '__reduce_ex__',\n",
       " '__repr__',\n",
       " '__reversed__',\n",
       " '__rmul__',\n",
       " '__setattr__',\n",
       " '__setitem__',\n",
       " '__sizeof__',\n",
       " '__str__',\n",
       " '__subclasshook__',\n",
       " 'append',\n",
       " 'clear',\n",
       " 'copy',\n",
       " 'count',\n",
       " 'extend',\n",
       " 'index',\n",
       " 'insert',\n",
       " 'pop',\n",
       " 'remove',\n",
       " 'reverse',\n",
       " 'sort']"
      ]
     },
     "execution_count": 7,
     "metadata": {},
     "output_type": "execute_result"
    }
   ],
   "source": [
    "dir(l)"
   ]
  },
  {
   "cell_type": "markdown",
   "id": "03043d34",
   "metadata": {},
   "source": [
    "### Insertion Algorithm"
   ]
  },
  {
   "cell_type": "code",
   "execution_count": 15,
   "id": "77a804a2",
   "metadata": {},
   "outputs": [
    {
     "name": "stdout",
     "output_type": "stream",
     "text": [
      "[2, 11, 19, 27, 30, 31, 45, 121]\n"
     ]
    }
   ],
   "source": [
    "def insertion_sort(InputList):\n",
    "    \n",
    "    for i in range(1, len(InputList)):\n",
    "        j = i-1\n",
    "        nxt_element = InputList[i]\n",
    "    \n",
    "        # Compare the current element with next one\n",
    "        while (InputList[j] > nxt_element) and (j >= 0):\n",
    "            InputList[j+1] = InputList[j]\n",
    "            j=j-1\n",
    "            InputList[j+1] = nxt_element\n",
    "\n",
    "list = [19,2,31,45,30,11,121,27]\n",
    "insertion_sort(list)\n",
    "print(list)"
   ]
  },
  {
   "cell_type": "markdown",
   "id": "2aa7d8e9",
   "metadata": {},
   "source": [
    "### Shell Sort Algorithm"
   ]
  },
  {
   "cell_type": "code",
   "execution_count": 20,
   "id": "ff561f8e",
   "metadata": {},
   "outputs": [
    {
     "name": "stdout",
     "output_type": "stream",
     "text": [
      "[2, 11, 19, 27, 30, 31, 45, 121]\n"
     ]
    }
   ],
   "source": [
    "def shellSort(input_list):\n",
    "    gap = len(input_list) // 2\n",
    "    while gap > 0:\n",
    "        for i in range(gap, len(input_list)):\n",
    "            temp = input_list[i]\n",
    "            j = i\n",
    "\n",
    "            # Sort the sub list for this gap\n",
    "            while j >= gap and input_list[j - gap] > temp:\n",
    "                input_list[j] = input_list[j - gap]\n",
    "                j = j-gap\n",
    "                input_list[j] = temp\n",
    "\n",
    "        # Reduce the gap for the next element\n",
    "        gap = gap//2\n",
    "    \n",
    "list = [19,2,31,45,30,11,121,27]\n",
    "\n",
    "shellSort(list)\n",
    "print(list)"
   ]
  },
  {
   "cell_type": "markdown",
   "id": "af29b5e5",
   "metadata": {},
   "source": [
    "### Selection Sort"
   ]
  },
  {
   "cell_type": "code",
   "execution_count": 21,
   "id": "5bc1aa8b",
   "metadata": {},
   "outputs": [
    {
     "name": "stdout",
     "output_type": "stream",
     "text": [
      "[2, 11, 19, 27, 30, 31, 45, 121]\n"
     ]
    }
   ],
   "source": [
    "def selection_sort(input_list):\n",
    "    for idx in range(len(input_list)):\n",
    "        min_idx = idx\n",
    "        for j in range( idx +1, len(input_list)):\n",
    "            if input_list[min_idx] > input_list[j]:\n",
    "                min_idx = j\n",
    "    \n",
    "        # Swap the minimum value with the compared value\n",
    "        input_list[idx], input_list[min_idx] = input_list[min_idx], input_list[idx]\n",
    "    \n",
    "l = [19,2,31,45,30,11,121,27]\n",
    "\n",
    "selection_sort(l)\n",
    "print(l)"
   ]
  },
  {
   "cell_type": "markdown",
   "id": "bcd8a4df",
   "metadata": {},
   "source": [
    "## Searching Algorithms"
   ]
  },
  {
   "cell_type": "markdown",
   "id": "c6a6981a",
   "metadata": {},
   "source": [
    "### 1. Linear Search"
   ]
  },
  {
   "cell_type": "code",
   "execution_count": 22,
   "id": "0c588424",
   "metadata": {},
   "outputs": [
    {
     "name": "stdout",
     "output_type": "stream",
     "text": [
      "True\n",
      "False\n"
     ]
    }
   ],
   "source": [
    "def linear_search(values, search_for):\n",
    "   search_at = 0\n",
    "   search_res = False\n",
    "# Match the value with each data element\t\n",
    "   while search_at < len(values) and search_res is False:\n",
    "      if values[search_at] == search_for:\n",
    "         search_res = True\n",
    "      else:\n",
    "         search_at = search_at + 1\n",
    "   return search_res\n",
    "l = [64, 34, 25, 12, 22, 11, 90]\n",
    "print(linear_search(l, 12))\n",
    "print(linear_search(l, 91))"
   ]
  },
  {
   "cell_type": "markdown",
   "id": "8c904114",
   "metadata": {},
   "source": [
    "### 2. Interpolation Search"
   ]
  },
  {
   "cell_type": "code",
   "execution_count": 25,
   "id": "3e7025f2",
   "metadata": {},
   "outputs": [
    {
     "name": "stdout",
     "output_type": "stream",
     "text": [
      "Found 2 at index 0\n"
     ]
    }
   ],
   "source": [
    "def intpolsearch(values,x ):\n",
    "    idx0 = 0\n",
    "    idxn = (len(values) - 1)\n",
    "    while idx0 <= idxn and x >= values[idx0] and x <= values[idxn]:\n",
    "        \n",
    "        # Find the mid point\n",
    "        mid = idx0 + int(((float(idxn - idx0)/( values[idxn] - values[idx0])) * ( x - values[idx0])))\n",
    "    \n",
    "        # Compare the value at mid point with search value \n",
    "        \n",
    "        if values[mid] == x:\n",
    "            return \"Found \" + str(x) + \" at index \" + str(mid)\n",
    "        \n",
    "        if values[mid] < x:\n",
    "            idx0 = mid + 1\n",
    "        \n",
    "    return \"Searched element not in the list\"\n",
    "\n",
    "l = [2, 6, 11, 19, 27, 31, 45, 121]\n",
    "print(intpolsearch(l, 2))"
   ]
  },
  {
   "cell_type": "markdown",
   "id": "4c0539b0",
   "metadata": {},
   "source": [
    "### Graph Algorithms"
   ]
  },
  {
   "cell_type": "markdown",
   "id": "3d4ac891",
   "metadata": {},
   "source": [
    "### 1. Depth First Traversal"
   ]
  },
  {
   "cell_type": "code",
   "execution_count": 30,
   "id": "68646d87",
   "metadata": {},
   "outputs": [
    {
     "name": "stdout",
     "output_type": "stream",
     "text": [
      "a\n",
      "c\n",
      "d\n",
      "e\n",
      "b\n"
     ]
    },
    {
     "data": {
      "text/plain": [
       "{'a', 'b', 'c', 'd', 'e'}"
      ]
     },
     "execution_count": 30,
     "metadata": {},
     "output_type": "execute_result"
    }
   ],
   "source": [
    "class graph:\n",
    "    def __init__(self, gdict=None):\n",
    "        \n",
    "        if gdict is None:\n",
    "            gdict = {}\n",
    "            \n",
    "        self.gdict = gdict\n",
    "\n",
    "# Check for the visisted and unvisited nodes\n",
    "def dfs(graph, start, visited = None):\n",
    "\n",
    "    if visited is None:\n",
    "        visited = set()\n",
    "\n",
    "    visited.add(start)\n",
    "\n",
    "    print(start)\n",
    "\n",
    "    for next in graph[start] - visited:\n",
    "        dfs(graph, next, visited)\n",
    "    return visited\n",
    "\n",
    "gdict = { \n",
    "   \"a\" : set([\"b\",\"c\"]),\n",
    "   \"b\" : set([\"a\", \"d\"]),\n",
    "   \"c\" : set([\"a\", \"d\"]),\n",
    "   \"d\" : set([\"e\"]),\n",
    "   \"e\" : set([\"a\"])\n",
    "}\n",
    "\n",
    "dfs(gdict, 'a')"
   ]
  },
  {
   "cell_type": "code",
   "execution_count": 27,
   "id": "9e097d07",
   "metadata": {},
   "outputs": [
    {
     "data": {
      "text/plain": [
       "{'b', 'c'}"
      ]
     },
     "execution_count": 27,
     "metadata": {},
     "output_type": "execute_result"
    }
   ],
   "source": [
    "set([\"b\", \"c\"])"
   ]
  },
  {
   "cell_type": "markdown",
   "id": "9e9261ec",
   "metadata": {},
   "source": [
    "### 2. Breadth First Traversal"
   ]
  },
  {
   "cell_type": "code",
   "execution_count": 32,
   "id": "c14660c2",
   "metadata": {},
   "outputs": [
    {
     "name": "stdout",
     "output_type": "stream",
     "text": [
      "a\n",
      "c\n",
      "d\n",
      "e\n",
      "b\n"
     ]
    },
    {
     "data": {
      "text/plain": [
       "{'a', 'b', 'c', 'd', 'e'}"
      ]
     },
     "execution_count": 32,
     "metadata": {},
     "output_type": "execute_result"
    }
   ],
   "source": [
    "class graph:\n",
    "    def __init__(self,gdict=None):\n",
    "        if gdict is None:\n",
    "            gdict = {}\n",
    "        self.gdict = gdict\n",
    "        \n",
    "# Check for the visisted and unvisited nodes\n",
    "def dfs(graph, start, visited = None):\n",
    "    if visited is None:\n",
    "        visited = set()\n",
    "    visited.add(start)\n",
    "    print(start)\n",
    "    for next in graph[start] - visited:\n",
    "        dfs(graph, next, visited)\n",
    "    return visited\n",
    "\n",
    "gdict = { \n",
    "   \"a\" : set([\"b\",\"c\"]),\n",
    "   \"b\" : set([\"a\", \"d\"]),\n",
    "   \"c\" : set([\"a\", \"d\"]),\n",
    "   \"d\" : set([\"e\"]),\n",
    "   \"e\" : set([\"a\"])\n",
    "}\n",
    "\n",
    "dfs(gdict, 'a')"
   ]
  },
  {
   "cell_type": "code",
   "execution_count": null,
   "id": "122d58a3",
   "metadata": {},
   "outputs": [],
   "source": []
  }
 ],
 "metadata": {
  "interpreter": {
   "hash": "a80b47fb9020a6800d3f0ae0645d2a88d275a1afc6d252ce6196542067670cd0"
  },
  "kernelspec": {
   "display_name": "problem-solving",
   "language": "python",
   "name": "python3"
  },
  "language_info": {
   "codemirror_mode": {
    "name": "ipython",
    "version": 3
   },
   "file_extension": ".py",
   "mimetype": "text/x-python",
   "name": "python",
   "nbconvert_exporter": "python",
   "pygments_lexer": "ipython3",
   "version": "3.10.0"
  }
 },
 "nbformat": 4,
 "nbformat_minor": 5
}
